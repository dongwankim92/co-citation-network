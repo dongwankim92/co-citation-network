{
 "cells": [
  {
   "cell_type": "markdown",
   "metadata": {},
   "source": [
    "# co-citation network (공동인용분석)\n",
    "### 필요한 패키지"
   ]
  },
  {
   "cell_type": "code",
   "execution_count": 18,
   "metadata": {},
   "outputs": [],
   "source": [
    "library(bibliometrix)\n",
    "library(igraph)\n",
    "library(dplyr)"
   ]
  },
  {
   "cell_type": "markdown",
   "metadata": {},
   "source": [
    "## 데이터 불러오기\n",
    "### AHRQ파일에 총 96개의 articles가 있고 1939개의 references가 인용되었다\n",
    "### cocMatrix는 bipartite matrix로 만들어준다(96* 1939 matrix)"
   ]
  },
  {
   "cell_type": "code",
   "execution_count": 19,
   "metadata": {},
   "outputs": [
    {
     "name": "stdout",
     "output_type": "stream",
     "text": [
      "\n",
      "Converting your isi collection into a bibliographic dataframe\n",
      "\n",
      "Articles extracted   96 \n",
      "Done!\n",
      "\n",
      "\n",
      "Generating affiliation field tag AU_UN from C1:  Done!\n",
      "\n"
     ]
    },
    {
     "data": {
      "text/html": [
       "<ol class=list-inline>\n",
       "\t<li>96</li>\n",
       "\t<li>1939</li>\n",
       "</ol>\n"
      ],
      "text/latex": [
       "\\begin{enumerate*}\n",
       "\\item 96\n",
       "\\item 1939\n",
       "\\end{enumerate*}\n"
      ],
      "text/markdown": [
       "1. 96\n",
       "2. 1939\n",
       "\n",
       "\n"
      ],
      "text/plain": [
       "[1]   96 1939"
      ]
     },
     "metadata": {},
     "output_type": "display_data"
    }
   ],
   "source": [
    "\n",
    "D<-readFiles(\"C://Users/admin/Desktop/final.ahrq.txt\")\n",
    "M <- convert2df(D, dbsource=\"isi\",format=\"plaintext\")\n",
    "\n",
    "cr<-cocMatrix(M,Field = \"CR\",sep =\";\")\n",
    "dim(cr)"
   ]
  },
  {
   "cell_type": "markdown",
   "metadata": {},
   "source": [
    "### biblioNetwork함수는 바로 co-citation matrix로 만들어준다"
   ]
  },
  {
   "cell_type": "code",
   "execution_count": null,
   "metadata": {},
   "outputs": [],
   "source": []
  },
  {
   "cell_type": "code",
   "execution_count": 8,
   "metadata": {},
   "outputs": [],
   "source": [
    "\n",
    "z<-biblioNetwork(M,analysis =\"co-citation\",network = \"references\")\n",
    "g1<-graph.adjacency(z,mode=\"undirected\",weighted = T)"
   ]
  },
  {
   "cell_type": "markdown",
   "metadata": {},
   "source": [
    "## 전처리"
   ]
  },
  {
   "cell_type": "markdown",
   "metadata": {},
   "source": [
    "### 전처리 전"
   ]
  },
  {
   "cell_type": "code",
   "execution_count": null,
   "metadata": {},
   "outputs": [],
   "source": [
    "\n",
    "A<-as.matrix(cr)\n",
    "name<-dimnames(A)[[2]]\n",
    "name[1:10]\n"
   ]
  },
  {
   "cell_type": "code",
   "execution_count": 9,
   "metadata": {
    "scrolled": true
   },
   "outputs": [
    {
     "data": {
      "text/html": [
       "<ol class=list-inline>\n",
       "\t<li>'ACKERMAN DB 2010 J ARTHROPLASTY '</li>\n",
       "\t<li>'ALEXANDER BH 1992 AM J PUBLIC HEALTH '</li>\n",
       "\t<li>'AZHAR A 2008 IR MED J '</li>\n",
       "\t<li>'BARRETT JA 2004 J AM GERIATR SOC '</li>\n",
       "\t<li>'BASS E 2008 J AM MED DIR ASSOC '</li>\n",
       "\t<li>'BATES DW 1995 AM J MED '</li>\n",
       "\t<li>'CANNARD G 1996 NURS TIMES '</li>\n",
       "\t<li>'CHANG JT 2004 BRIT MED J '</li>\n",
       "\t<li>'CHAPUY MC 1992 NEW ENGL J MED '</li>\n",
       "\t<li>'COTTER PE 2006 IRISH J MED SCI '</li>\n",
       "</ol>\n"
      ],
      "text/latex": [
       "\\begin{enumerate*}\n",
       "\\item 'ACKERMAN DB 2010 J ARTHROPLASTY '\n",
       "\\item 'ALEXANDER BH 1992 AM J PUBLIC HEALTH '\n",
       "\\item 'AZHAR A 2008 IR MED J '\n",
       "\\item 'BARRETT JA 2004 J AM GERIATR SOC '\n",
       "\\item 'BASS E 2008 J AM MED DIR ASSOC '\n",
       "\\item 'BATES DW 1995 AM J MED '\n",
       "\\item 'CANNARD G 1996 NURS TIMES '\n",
       "\\item 'CHANG JT 2004 BRIT MED J '\n",
       "\\item 'CHAPUY MC 1992 NEW ENGL J MED '\n",
       "\\item 'COTTER PE 2006 IRISH J MED SCI '\n",
       "\\end{enumerate*}\n"
      ],
      "text/markdown": [
       "1. 'ACKERMAN DB 2010 J ARTHROPLASTY '\n",
       "2. 'ALEXANDER BH 1992 AM J PUBLIC HEALTH '\n",
       "3. 'AZHAR A 2008 IR MED J '\n",
       "4. 'BARRETT JA 2004 J AM GERIATR SOC '\n",
       "5. 'BASS E 2008 J AM MED DIR ASSOC '\n",
       "6. 'BATES DW 1995 AM J MED '\n",
       "7. 'CANNARD G 1996 NURS TIMES '\n",
       "8. 'CHANG JT 2004 BRIT MED J '\n",
       "9. 'CHAPUY MC 1992 NEW ENGL J MED '\n",
       "10. 'COTTER PE 2006 IRISH J MED SCI '\n",
       "\n",
       "\n"
      ],
      "text/plain": [
       " [1] \"ACKERMAN DB 2010 J ARTHROPLASTY \"     \n",
       " [2] \"ALEXANDER BH 1992 AM J PUBLIC HEALTH \"\n",
       " [3] \"AZHAR A 2008 IR MED J \"               \n",
       " [4] \"BARRETT JA 2004 J AM GERIATR SOC \"    \n",
       " [5] \"BASS E 2008 J AM MED DIR ASSOC \"      \n",
       " [6] \"BATES DW 1995 AM J MED \"              \n",
       " [7] \"CANNARD G 1996 NURS TIMES \"           \n",
       " [8] \"CHANG JT 2004 BRIT MED J \"            \n",
       " [9] \"CHAPUY MC 1992 NEW ENGL J MED \"       \n",
       "[10] \"COTTER PE 2006 IRISH J MED SCI \"      "
      ]
     },
     "metadata": {},
     "output_type": "display_data"
    }
   ],
   "source": [
    "\n",
    "\n",
    "for(i in 1:length(name)){\n",
    "  \n",
    "  tmp<-strsplit(name[i],' ')[[1]]\n",
    "  tmp[1]<-tolower(tmp[1])\n",
    "  ttmp<-strsplit(tmp[1],'')[[1]]\n",
    "  ttmp[1]<-toupper(ttmp[1])\n",
    "    tmp[1]<-paste(ttmp,collapse = \"\")\n",
    "  \n",
    "  ind<-grep(\"\\\\d\",tmp)\n",
    "  \n",
    "  tmp[ind]<-paste0(tmp[ind],\",\")\n",
    "  tmp[ind-1]<-paste0(tmp[ind-1],\",\")\n",
    "  name[i]<-paste(tmp,collapse=\" \")\n",
    "}\n",
    "\n",
    "dimnames(A)[[2]]<-name\n",
    "\n",
    "h<-data.frame(colSums(A))\n",
    "h$name<-name"
   ]
  },
  {
   "cell_type": "markdown",
   "metadata": {},
   "source": [
    "### 전처리 후"
   ]
  },
  {
   "cell_type": "code",
   "execution_count": 10,
   "metadata": {},
   "outputs": [
    {
     "data": {
      "text/html": [
       "<ol class=list-inline>\n",
       "\t<li>'Ackerman DB, 2010, J ARTHROPLASTY'</li>\n",
       "\t<li>'Alexander BH, 1992, AM J PUBLIC HEALTH'</li>\n",
       "\t<li>'Azhar A, 2008, IR MED J'</li>\n",
       "\t<li>'Barrett JA, 2004, J AM GERIATR SOC'</li>\n",
       "\t<li>'Bass E, 2008, J AM MED DIR ASSOC'</li>\n",
       "\t<li>'Bates DW, 1995, AM J MED'</li>\n",
       "\t<li>'Cannard G, 1996, NURS TIMES'</li>\n",
       "\t<li>'Chang JT, 2004, BRIT MED J'</li>\n",
       "\t<li>'Chapuy MC, 1992, NEW ENGL J MED'</li>\n",
       "\t<li>'Cotter PE, 2006, IRISH J MED SCI'</li>\n",
       "</ol>\n"
      ],
      "text/latex": [
       "\\begin{enumerate*}\n",
       "\\item 'Ackerman DB, 2010, J ARTHROPLASTY'\n",
       "\\item 'Alexander BH, 1992, AM J PUBLIC HEALTH'\n",
       "\\item 'Azhar A, 2008, IR MED J'\n",
       "\\item 'Barrett JA, 2004, J AM GERIATR SOC'\n",
       "\\item 'Bass E, 2008, J AM MED DIR ASSOC'\n",
       "\\item 'Bates DW, 1995, AM J MED'\n",
       "\\item 'Cannard G, 1996, NURS TIMES'\n",
       "\\item 'Chang JT, 2004, BRIT MED J'\n",
       "\\item 'Chapuy MC, 1992, NEW ENGL J MED'\n",
       "\\item 'Cotter PE, 2006, IRISH J MED SCI'\n",
       "\\end{enumerate*}\n"
      ],
      "text/markdown": [
       "1. 'Ackerman DB, 2010, J ARTHROPLASTY'\n",
       "2. 'Alexander BH, 1992, AM J PUBLIC HEALTH'\n",
       "3. 'Azhar A, 2008, IR MED J'\n",
       "4. 'Barrett JA, 2004, J AM GERIATR SOC'\n",
       "5. 'Bass E, 2008, J AM MED DIR ASSOC'\n",
       "6. 'Bates DW, 1995, AM J MED'\n",
       "7. 'Cannard G, 1996, NURS TIMES'\n",
       "8. 'Chang JT, 2004, BRIT MED J'\n",
       "9. 'Chapuy MC, 1992, NEW ENGL J MED'\n",
       "10. 'Cotter PE, 2006, IRISH J MED SCI'\n",
       "\n",
       "\n"
      ],
      "text/plain": [
       " [1] \"Ackerman DB, 2010, J ARTHROPLASTY\"     \n",
       " [2] \"Alexander BH, 1992, AM J PUBLIC HEALTH\"\n",
       " [3] \"Azhar A, 2008, IR MED J\"               \n",
       " [4] \"Barrett JA, 2004, J AM GERIATR SOC\"    \n",
       " [5] \"Bass E, 2008, J AM MED DIR ASSOC\"      \n",
       " [6] \"Bates DW, 1995, AM J MED\"              \n",
       " [7] \"Cannard G, 1996, NURS TIMES\"           \n",
       " [8] \"Chang JT, 2004, BRIT MED J\"            \n",
       " [9] \"Chapuy MC, 1992, NEW ENGL J MED\"       \n",
       "[10] \"Cotter PE, 2006, IRISH J MED SCI\"      "
      ]
     },
     "metadata": {},
     "output_type": "display_data"
    }
   ],
   "source": [
    "name[1:10]\n"
   ]
  },
  {
   "cell_type": "markdown",
   "metadata": {},
   "source": [
    "## Centrality and igraph\n",
    "###  bipartite matrix A를 T(A) * A 하면 co-citation matrix가 된다"
   ]
  },
  {
   "cell_type": "code",
   "execution_count": 20,
   "metadata": {},
   "outputs": [],
   "source": [
    "\n",
    "co.rf<-t(A) %*% A\n",
    "co.rf.g<-graph.adjacency(co.rf,mode = \"undirected\",weighted = T)\n",
    "\n"
   ]
  },
  {
   "cell_type": "markdown",
   "metadata": {},
   "source": [
    "### 각 node의 degree를 기준으로 30개의 node만 그리려고 한다\n",
    "### degree가 아니더라도 다른 통계량을 사용해도 된다(맞게)"
   ]
  },
  {
   "cell_type": "code",
   "execution_count": 21,
   "metadata": {},
   "outputs": [
    {
     "data": {
      "text/html": [
       "<table>\n",
       "<thead><tr><th scope=col>deg.rf</th><th scope=col>name</th></tr></thead>\n",
       "<tbody>\n",
       "\t<tr><td>593                                      </td><td>Oliver D, 1997, BMJ-BRIT MED J           </td></tr>\n",
       "\t<tr><td>540                                      </td><td>Oliver D, 2004, AGE AGEING               </td></tr>\n",
       "\t<tr><td>520                                      </td><td>Oliver D, 2000, J AM GERIATR SOC         </td></tr>\n",
       "\t<tr><td>430                                      </td><td>Bates DW, 1995, AM J MED                 </td></tr>\n",
       "\t<tr><td>403                                      </td><td>Lundebjerg N, 2001, J AM GERIATR SOC     </td></tr>\n",
       "\t<tr><td>363                                      </td><td>Halfon P, 2001, J CLIN EPIDEMIOL         </td></tr>\n",
       "\t<tr><td>340                                      </td><td>Hitcho EB, 2004, J GEN INTERN MED        </td></tr>\n",
       "\t<tr><td>339                                      </td><td>Perell KL, 2001, J GERONTOL A-BIOL       </td></tr>\n",
       "\t<tr><td>338                                      </td><td>Tideiksaar R, 1993, MT SINAI J MED       </td></tr>\n",
       "\t<tr><td>337                                      </td><td>Haines TP, 2004, BMJ-BRIT MED J          </td></tr>\n",
       "\t<tr><td>330                                      </td><td>Schmid NA, 1990, MIL MED                 </td></tr>\n",
       "\t<tr><td>321                                      </td><td>Hendrich A, 1995, APPL NURS RES          </td></tr>\n",
       "\t<tr><td>318                                      </td><td>Myers HELEN, 2003, INT J NURS PRACT      </td></tr>\n",
       "\t<tr><td>286                                      </td><td>Coker ESTHER, 2003, OUTCOMES MANAG       </td></tr>\n",
       "\t<tr><td>274                                      </td><td>Oliver D, 2007, BRIT MED J               </td></tr>\n",
       "\t<tr><td>273                                      </td><td>Fonda D, 2006, MED J AUSTRALIA           </td></tr>\n",
       "\t<tr><td>272                                      </td><td>Tinetti ME, 1988, NEW ENGL J MED         </td></tr>\n",
       "\t<tr><td>252                                      </td><td>Mayo NE, 1994, ARCH PHYS MED REHAB       </td></tr>\n",
       "\t<tr><td>250                                      </td><td>Chang JT, 2004, BRIT MED J               </td></tr>\n",
       "\t<tr><td>240                                      </td><td>Tinetti ME, 1986, AM J MED               </td></tr>\n",
       "\t<tr><td>238                                      </td><td>Coussement J, 2008, J AM GERIATR SOC     </td></tr>\n",
       "\t<tr><td>229                                      </td><td>Morse JM, 1989, CAN J AGING              </td></tr>\n",
       "\t<tr><td>228                                      </td><td>Hendrich AL, 2003, APPL NURS RES         </td></tr>\n",
       "\t<tr><td>227                                      </td><td>Healey F, 2004, AGE AGEING               </td></tr>\n",
       "\t<tr><td>219                                      </td><td>Schwendimann R, 2006, BMC HEALTH SERV RES</td></tr>\n",
       "\t<tr><td>219                                      </td><td>Mccollam ME, 1995, NURS CLIN N AM        </td></tr>\n",
       "\t<tr><td>214                                      </td><td>Sutton JC, 1994, BRIT J CLIN PRACT       </td></tr>\n",
       "\t<tr><td>214                                      </td><td>Mahoney JE, 1998, CLIN GERIATR MED       </td></tr>\n",
       "\t<tr><td>209                                      </td><td>Morse J, 1997, PREVENTING PATIENT F      </td></tr>\n",
       "\t<tr><td>207                                      </td><td>Cannard G, 1996, NURS TIMES              </td></tr>\n",
       "\t<tr><td>203                                      </td><td>Fischer ID, 2005, INFECT CONT HOSP EP    </td></tr>\n",
       "</tbody>\n",
       "</table>\n"
      ],
      "text/latex": [
       "\\begin{tabular}{r|ll}\n",
       " deg.rf & name\\\\\n",
       "\\hline\n",
       "\t 593                                       & Oliver D, 1997, BMJ-BRIT MED J           \\\\\n",
       "\t 540                                       & Oliver D, 2004, AGE AGEING               \\\\\n",
       "\t 520                                       & Oliver D, 2000, J AM GERIATR SOC         \\\\\n",
       "\t 430                                       & Bates DW, 1995, AM J MED                 \\\\\n",
       "\t 403                                       & Lundebjerg N, 2001, J AM GERIATR SOC     \\\\\n",
       "\t 363                                       & Halfon P, 2001, J CLIN EPIDEMIOL         \\\\\n",
       "\t 340                                       & Hitcho EB, 2004, J GEN INTERN MED        \\\\\n",
       "\t 339                                       & Perell KL, 2001, J GERONTOL A-BIOL       \\\\\n",
       "\t 338                                       & Tideiksaar R, 1993, MT SINAI J MED       \\\\\n",
       "\t 337                                       & Haines TP, 2004, BMJ-BRIT MED J          \\\\\n",
       "\t 330                                       & Schmid NA, 1990, MIL MED                 \\\\\n",
       "\t 321                                       & Hendrich A, 1995, APPL NURS RES          \\\\\n",
       "\t 318                                       & Myers HELEN, 2003, INT J NURS PRACT      \\\\\n",
       "\t 286                                       & Coker ESTHER, 2003, OUTCOMES MANAG       \\\\\n",
       "\t 274                                       & Oliver D, 2007, BRIT MED J               \\\\\n",
       "\t 273                                       & Fonda D, 2006, MED J AUSTRALIA           \\\\\n",
       "\t 272                                       & Tinetti ME, 1988, NEW ENGL J MED         \\\\\n",
       "\t 252                                       & Mayo NE, 1994, ARCH PHYS MED REHAB       \\\\\n",
       "\t 250                                       & Chang JT, 2004, BRIT MED J               \\\\\n",
       "\t 240                                       & Tinetti ME, 1986, AM J MED               \\\\\n",
       "\t 238                                       & Coussement J, 2008, J AM GERIATR SOC     \\\\\n",
       "\t 229                                       & Morse JM, 1989, CAN J AGING              \\\\\n",
       "\t 228                                       & Hendrich AL, 2003, APPL NURS RES         \\\\\n",
       "\t 227                                       & Healey F, 2004, AGE AGEING               \\\\\n",
       "\t 219                                       & Schwendimann R, 2006, BMC HEALTH SERV RES\\\\\n",
       "\t 219                                       & Mccollam ME, 1995, NURS CLIN N AM        \\\\\n",
       "\t 214                                       & Sutton JC, 1994, BRIT J CLIN PRACT       \\\\\n",
       "\t 214                                       & Mahoney JE, 1998, CLIN GERIATR MED       \\\\\n",
       "\t 209                                       & Morse J, 1997, PREVENTING PATIENT F      \\\\\n",
       "\t 207                                       & Cannard G, 1996, NURS TIMES              \\\\\n",
       "\t 203                                       & Fischer ID, 2005, INFECT CONT HOSP EP    \\\\\n",
       "\\end{tabular}\n"
      ],
      "text/markdown": [
       "\n",
       "| deg.rf | name |\n",
       "|---|---|\n",
       "| 593                                       | Oliver D, 1997, BMJ-BRIT MED J            |\n",
       "| 540                                       | Oliver D, 2004, AGE AGEING                |\n",
       "| 520                                       | Oliver D, 2000, J AM GERIATR SOC          |\n",
       "| 430                                       | Bates DW, 1995, AM J MED                  |\n",
       "| 403                                       | Lundebjerg N, 2001, J AM GERIATR SOC      |\n",
       "| 363                                       | Halfon P, 2001, J CLIN EPIDEMIOL          |\n",
       "| 340                                       | Hitcho EB, 2004, J GEN INTERN MED         |\n",
       "| 339                                       | Perell KL, 2001, J GERONTOL A-BIOL        |\n",
       "| 338                                       | Tideiksaar R, 1993, MT SINAI J MED        |\n",
       "| 337                                       | Haines TP, 2004, BMJ-BRIT MED J           |\n",
       "| 330                                       | Schmid NA, 1990, MIL MED                  |\n",
       "| 321                                       | Hendrich A, 1995, APPL NURS RES           |\n",
       "| 318                                       | Myers HELEN, 2003, INT J NURS PRACT       |\n",
       "| 286                                       | Coker ESTHER, 2003, OUTCOMES MANAG        |\n",
       "| 274                                       | Oliver D, 2007, BRIT MED J                |\n",
       "| 273                                       | Fonda D, 2006, MED J AUSTRALIA            |\n",
       "| 272                                       | Tinetti ME, 1988, NEW ENGL J MED          |\n",
       "| 252                                       | Mayo NE, 1994, ARCH PHYS MED REHAB        |\n",
       "| 250                                       | Chang JT, 2004, BRIT MED J                |\n",
       "| 240                                       | Tinetti ME, 1986, AM J MED                |\n",
       "| 238                                       | Coussement J, 2008, J AM GERIATR SOC      |\n",
       "| 229                                       | Morse JM, 1989, CAN J AGING               |\n",
       "| 228                                       | Hendrich AL, 2003, APPL NURS RES          |\n",
       "| 227                                       | Healey F, 2004, AGE AGEING                |\n",
       "| 219                                       | Schwendimann R, 2006, BMC HEALTH SERV RES |\n",
       "| 219                                       | Mccollam ME, 1995, NURS CLIN N AM         |\n",
       "| 214                                       | Sutton JC, 1994, BRIT J CLIN PRACT        |\n",
       "| 214                                       | Mahoney JE, 1998, CLIN GERIATR MED        |\n",
       "| 209                                       | Morse J, 1997, PREVENTING PATIENT F       |\n",
       "| 207                                       | Cannard G, 1996, NURS TIMES               |\n",
       "| 203                                       | Fischer ID, 2005, INFECT CONT HOSP EP     |\n",
       "\n"
      ],
      "text/plain": [
       "   deg.rf name                                     \n",
       "1  593    Oliver D, 1997, BMJ-BRIT MED J           \n",
       "2  540    Oliver D, 2004, AGE AGEING               \n",
       "3  520    Oliver D, 2000, J AM GERIATR SOC         \n",
       "4  430    Bates DW, 1995, AM J MED                 \n",
       "5  403    Lundebjerg N, 2001, J AM GERIATR SOC     \n",
       "6  363    Halfon P, 2001, J CLIN EPIDEMIOL         \n",
       "7  340    Hitcho EB, 2004, J GEN INTERN MED        \n",
       "8  339    Perell KL, 2001, J GERONTOL A-BIOL       \n",
       "9  338    Tideiksaar R, 1993, MT SINAI J MED       \n",
       "10 337    Haines TP, 2004, BMJ-BRIT MED J          \n",
       "11 330    Schmid NA, 1990, MIL MED                 \n",
       "12 321    Hendrich A, 1995, APPL NURS RES          \n",
       "13 318    Myers HELEN, 2003, INT J NURS PRACT      \n",
       "14 286    Coker ESTHER, 2003, OUTCOMES MANAG       \n",
       "15 274    Oliver D, 2007, BRIT MED J               \n",
       "16 273    Fonda D, 2006, MED J AUSTRALIA           \n",
       "17 272    Tinetti ME, 1988, NEW ENGL J MED         \n",
       "18 252    Mayo NE, 1994, ARCH PHYS MED REHAB       \n",
       "19 250    Chang JT, 2004, BRIT MED J               \n",
       "20 240    Tinetti ME, 1986, AM J MED               \n",
       "21 238    Coussement J, 2008, J AM GERIATR SOC     \n",
       "22 229    Morse JM, 1989, CAN J AGING              \n",
       "23 228    Hendrich AL, 2003, APPL NURS RES         \n",
       "24 227    Healey F, 2004, AGE AGEING               \n",
       "25 219    Schwendimann R, 2006, BMC HEALTH SERV RES\n",
       "26 219    Mccollam ME, 1995, NURS CLIN N AM        \n",
       "27 214    Sutton JC, 1994, BRIT J CLIN PRACT       \n",
       "28 214    Mahoney JE, 1998, CLIN GERIATR MED       \n",
       "29 209    Morse J, 1997, PREVENTING PATIENT F      \n",
       "30 207    Cannard G, 1996, NURS TIMES              \n",
       "31 203    Fischer ID, 2005, INFECT CONT HOSP EP    "
      ]
     },
     "metadata": {},
     "output_type": "display_data"
    },
    {
     "data": {
      "text/html": [
       "<table>\n",
       "<thead><tr><th scope=col>eigen_cen</th><th scope=col>betweenness</th><th scope=col>degree_cen</th><th scope=col>name</th></tr></thead>\n",
       "<tbody>\n",
       "\t<tr><td>0.04409063                            </td><td>   21.20258                           </td><td> 31                                   </td><td>Ackerman DB, 2010, J ARTHROPLASTY     </td></tr>\n",
       "\t<tr><td>0.13552728                            </td><td>  494.32959                           </td><td> 90                                   </td><td>Alexander BH, 1992, AM J PUBLIC HEALTH</td></tr>\n",
       "\t<tr><td>0.04409063                            </td><td>   21.20258                           </td><td> 31                                   </td><td>Azhar A, 2008, IR MED J               </td></tr>\n",
       "\t<tr><td>0.17248824                            </td><td>  729.78926                           </td><td> 90                                   </td><td>Barrett JA, 2004, J AM GERIATR SOC    </td></tr>\n",
       "\t<tr><td>0.04409063                            </td><td>   21.20258                           </td><td> 31                                   </td><td>Bass E, 2008, J AM MED DIR ASSOC      </td></tr>\n",
       "\t<tr><td>0.70902555                            </td><td>62733.97012                           </td><td>430                                   </td><td>Bates DW, 1995, AM J MED              </td></tr>\n",
       "</tbody>\n",
       "</table>\n"
      ],
      "text/latex": [
       "\\begin{tabular}{r|llll}\n",
       " eigen\\_cen & betweenness & degree\\_cen & name\\\\\n",
       "\\hline\n",
       "\t 0.04409063                             &    21.20258                            &  31                                    & Ackerman DB, 2010, J ARTHROPLASTY     \\\\\n",
       "\t 0.13552728                             &   494.32959                            &  90                                    & Alexander BH, 1992, AM J PUBLIC HEALTH\\\\\n",
       "\t 0.04409063                             &    21.20258                            &  31                                    & Azhar A, 2008, IR MED J               \\\\\n",
       "\t 0.17248824                             &   729.78926                            &  90                                    & Barrett JA, 2004, J AM GERIATR SOC    \\\\\n",
       "\t 0.04409063                             &    21.20258                            &  31                                    & Bass E, 2008, J AM MED DIR ASSOC      \\\\\n",
       "\t 0.70902555                             & 62733.97012                            & 430                                    & Bates DW, 1995, AM J MED              \\\\\n",
       "\\end{tabular}\n"
      ],
      "text/markdown": [
       "\n",
       "| eigen_cen | betweenness | degree_cen | name |\n",
       "|---|---|---|---|\n",
       "| 0.04409063                             |    21.20258                            |  31                                    | Ackerman DB, 2010, J ARTHROPLASTY      |\n",
       "| 0.13552728                             |   494.32959                            |  90                                    | Alexander BH, 1992, AM J PUBLIC HEALTH |\n",
       "| 0.04409063                             |    21.20258                            |  31                                    | Azhar A, 2008, IR MED J                |\n",
       "| 0.17248824                             |   729.78926                            |  90                                    | Barrett JA, 2004, J AM GERIATR SOC     |\n",
       "| 0.04409063                             |    21.20258                            |  31                                    | Bass E, 2008, J AM MED DIR ASSOC       |\n",
       "| 0.70902555                             | 62733.97012                            | 430                                    | Bates DW, 1995, AM J MED               |\n",
       "\n"
      ],
      "text/plain": [
       "  eigen_cen  betweenness degree_cen name                                  \n",
       "1 0.04409063    21.20258  31        Ackerman DB, 2010, J ARTHROPLASTY     \n",
       "2 0.13552728   494.32959  90        Alexander BH, 1992, AM J PUBLIC HEALTH\n",
       "3 0.04409063    21.20258  31        Azhar A, 2008, IR MED J               \n",
       "4 0.17248824   729.78926  90        Barrett JA, 2004, J AM GERIATR SOC    \n",
       "5 0.04409063    21.20258  31        Bass E, 2008, J AM MED DIR ASSOC      \n",
       "6 0.70902555 62733.97012 430        Bates DW, 1995, AM J MED              "
      ]
     },
     "metadata": {},
     "output_type": "display_data"
    }
   ],
   "source": [
    "\n",
    "deg.rf<-degree(co.rf.g)\n",
    "deg.rf2<-as.data.frame(deg.rf)\n",
    "deg.rf2$name<-name\n",
    "deg.rf3<-arrange(deg.rf2,desc(deg.rf2$deg))\n",
    "deg.rf3[1:31,]\n",
    "\n",
    "#Top30 nodes(references) by degree from the total data\n",
    "\n",
    "e1<-eigen_centrality(co.rf.g)[1]\n",
    "e11<-data.frame(e1)\n",
    "\n",
    "b1<-betweenness(co.rf.g)\n",
    "b11<-data.frame(b1)\n",
    "\n",
    "\n",
    "d1<-degree(co.rf.g)\n",
    "d11<-data.frame(d1)\n",
    "\n",
    "\n",
    "dc1<-d11/(dim(d11)[1]-1) \n",
    "\n",
    "cen<-cbind.data.frame(e11,b11,d11)\n",
    "cen$name<-name\n",
    "names(cen)<-c(\"eigen_cen\",\"betweenness\",\"degree_cen\",\"name\")\n",
    "\n",
    "head(cen)"
   ]
  },
  {
   "cell_type": "code",
   "execution_count": 22,
   "metadata": {},
   "outputs": [],
   "source": [
    "\n",
    "E(co.rf.g)$width = E(co.rf.g)$weight\n",
    "V(co.rf.g)$size<-deg.rf\n"
   ]
  },
  {
   "cell_type": "code",
   "execution_count": 23,
   "metadata": {},
   "outputs": [],
   "source": [
    "\n",
    "induce<-induced.subgraph(co.rf.g,V(co.rf.g)$size >=207)"
   ]
  },
  {
   "cell_type": "code",
   "execution_count": 14,
   "metadata": {},
   "outputs": [
    {
     "data": {
      "image/png": "[encoded data removed]",
      "text/plain": [
       "Plot with title \"\""
      ]
     },
     "metadata": {},
     "output_type": "display_data"
    }
   ],
   "source": [
    "\n",
    "V(induce)$initial<-ifelse(V(induce)$size>=240,V(induce)$name,\"\")\n",
    "g2<-simplify(induce,remove.loops=TRUE,remove.multiple = T)\n",
    "\n",
    "V(g2)$color<-ifelse(V(g2)$size>=593,\"black\",\n",
    "                    ifelse(V(g2)$size>=403,\"Dim gray\",\"Gray\"))\n",
    "\n",
    "V(g2)$initial2<-\" \"\n",
    "set.seed(12)\n",
    "plot(g2,layout=layout.fruchterman.reingold, vertex.color=V(g2)$color, vertex.size=V(g2)$size/70, vertex.label.color=\"black\",\n",
    "     vertex.label.cex=0.8, vertex.label.dist=1, edge.curved=0,edge.width=E(g2)$weight/3,edge.color=\"gray\",vertex.label=V(g2)$initial)"
   ]
  },
  {
   "cell_type": "markdown",
   "metadata": {},
   "source": [
    "## Community detection"
   ]
  },
  {
   "cell_type": "code",
   "execution_count": 24,
   "metadata": {},
   "outputs": [],
   "source": [
    "eig<-leading.eigenvector.community(co.rf.g)\n",
    "lou<-cluster_louvain(co.rf.g)\n",
    "\n",
    "V(co.rf.g)$lou<-lou$membership\n",
    "V(co.rf.g)$eig<-eig$membership\n"
   ]
  }
 ],
 "metadata": {
  "kernelspec": {
   "display_name": "R",
   "language": "R",
   "name": "ir"
  },
  "language_info": {
   "codemirror_mode": "r",
   "file_extension": ".r",
   "mimetype": "text/x-r-source",
   "name": "R",
   "pygments_lexer": "r",
   "version": "3.6.1"
  }
 },
 "nbformat": 4,
 "nbformat_minor": 4
}
