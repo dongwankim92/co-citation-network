{
 "cells": [
  {
   "cell_type": "code",
   "execution_count": 3,
   "metadata": {},
   "outputs": [],
   "source": [
    "library(bibliometrix)\n",
    "library(igraph)\n",
    "library(dplyr)\n"
   ]
  },
  {
   "cell_type": "code",
   "execution_count": 4,
   "metadata": {},
   "outputs": [
    {
     "name": "stdout",
     "output_type": "stream",
     "text": [
      "\n",
      "Converting your isi collection into a bibliographic dataframe\n",
      "\n",
      "Articles extracted   96 \n",
      "Done!\n",
      "\n",
      "\n",
      "Generating affiliation field tag AU_UN from C1:  Done!\n",
      "\n"
     ]
    },
    {
     "data": {
      "text/html": [
       "<ol class=list-inline>\n",
       "\t<li>96</li>\n",
       "\t<li>1939</li>\n",
       "</ol>\n"
      ],
      "text/latex": [
       "\\begin{enumerate*}\n",
       "\\item 96\n",
       "\\item 1939\n",
       "\\end{enumerate*}\n"
      ],
      "text/markdown": [
       "1. 96\n",
       "2. 1939\n",
       "\n",
       "\n"
      ],
      "text/plain": [
       "[1]   96 1939"
      ]
     },
     "metadata": {},
     "output_type": "display_data"
    }
   ],
   "source": [
    "\n",
    "D<-readFiles(\"C://Users/admin/Desktop/final.ahrq.txt\")\n",
    "M <- convert2df(D, dbsource=\"isi\",format=\"plaintext\")\n",
    "\n",
    "cr<-cocMatrix(M,Field = \"CR\",sep =\";\")\n",
    "dim(cr)"
   ]
  }
 ],
 "metadata": {
  "kernelspec": {
   "display_name": "R",
   "language": "R",
   "name": "ir"
  },
  "language_info": {
   "codemirror_mode": "r",
   "file_extension": ".r",
   "mimetype": "text/x-r-source",
   "name": "R",
   "pygments_lexer": "r",
   "version": "3.6.1"
  }
 },
 "nbformat": 4,
 "nbformat_minor": 4
}
